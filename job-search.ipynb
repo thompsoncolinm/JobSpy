{
 "cells": [
  {
   "cell_type": "markdown",
   "metadata": {},
   "source": [
    "# JobSpy Usage"
   ]
  },
  {
   "cell_type": "markdown",
   "metadata": {},
   "source": [
    "## Installation\n",
    "Run this cell if you haven't installed jobspy yet\n",
    "!pip install -U python-jobspy"
   ]
  },
  {
   "cell_type": "markdown",
   "metadata": {},
   "source": [
    "## Import necessary libraries"
   ]
  },
  {
   "cell_type": "code",
   "execution_count": 1,
   "metadata": {
    "execution": {
     "iopub.execute_input": "2024-05-27T20:51:30.349003Z",
     "iopub.status.busy": "2024-05-27T20:51:30.347055Z",
     "iopub.status.idle": "2024-05-27T20:51:53.990325Z",
     "shell.execute_reply": "2024-05-27T20:51:53.989406Z"
    },
    "vscode": {
     "languageId": "plaintext"
    }
   },
   "outputs": [],
   "source": [
    "import csv\n",
    "from src.jobspy import scrape_jobs"
   ]
  },
  {
   "cell_type": "markdown",
   "metadata": {},
   "source": [
    "## Scrape jobs\n",
    "\n",
    "```jupyter nbconvert --execute --to notebook --inplace job-search.ipynb```"
   ]
  },
  {
   "cell_type": "code",
   "execution_count": 2,
   "metadata": {
    "execution": {
     "iopub.execute_input": "2024-05-27T20:51:53.995471Z",
     "iopub.status.busy": "2024-05-27T20:51:53.994738Z",
     "iopub.status.idle": "2024-05-27T20:52:00.443305Z",
     "shell.execute_reply": "2024-05-27T20:52:00.442537Z"
    },
    "vscode": {
     "languageId": "plaintext"
    }
   },
   "outputs": [
    {
     "name": "stderr",
     "output_type": "stream",
     "text": [
      "2024-05-27 16:51:53,998 - JobSpy - INFO - Indeed search page: 1\n"
     ]
    },
    {
     "name": "stderr",
     "output_type": "stream",
     "text": [
      "2024-05-27 16:51:54,000 - JobSpy - INFO - LinkedIn search page: 1\n"
     ]
    },
    {
     "name": "stderr",
     "output_type": "stream",
     "text": [
      "2024-05-27 16:51:54,215 - JobSpy - INFO - ZipRecruiter search page: 1\n"
     ]
    },
    {
     "name": "stderr",
     "output_type": "stream",
     "text": [
      "2024-05-27 16:51:54,439 - JobSpy - INFO - Indeed search page: 2\n"
     ]
    },
    {
     "name": "stderr",
     "output_type": "stream",
     "text": [
      "2024-05-27 16:51:54,603 - JobSpy - INFO - Glassdoor search page: 1\n"
     ]
    },
    {
     "name": "stderr",
     "output_type": "stream",
     "text": [
      "2024-05-27 16:51:54,779 - JobSpy - INFO - Indeed found no jobs on page: 2\n"
     ]
    },
    {
     "name": "stderr",
     "output_type": "stream",
     "text": [
      "2024-05-27 16:51:54,781 - JobSpy - INFO - Indeed finished scraping\n"
     ]
    },
    {
     "name": "stderr",
     "output_type": "stream",
     "text": [
      "2024-05-27 16:51:55,578 - JobSpy - INFO - Glassdoor search page: 2\n"
     ]
    },
    {
     "name": "stderr",
     "output_type": "stream",
     "text": [
      "2024-05-27 16:51:55,891 - JobSpy - INFO - Glassdoor finished scraping\n"
     ]
    },
    {
     "name": "stderr",
     "output_type": "stream",
     "text": [
      "2024-05-27 16:51:59,239 - JobSpy - INFO - LinkedIn search page: 2\n"
     ]
    },
    {
     "name": "stderr",
     "output_type": "stream",
     "text": [
      "2024-05-27 16:51:59,530 - JobSpy - INFO - Linkedin finished scraping\n"
     ]
    },
    {
     "name": "stderr",
     "output_type": "stream",
     "text": [
      "2024-05-27 16:51:59,735 - JobSpy - INFO - ZipRecruiter search page: 2\n"
     ]
    },
    {
     "name": "stderr",
     "output_type": "stream",
     "text": [
      "2024-05-27 16:52:00,116 - JobSpy - INFO - ZipRecruiter finished scraping\n"
     ]
    }
   ],
   "source": [
    "jobs = scrape_jobs(\n",
    "    site_name=[\"indeed\", \"linkedin\", \"zip_recruiter\", \"glassdoor\"],\n",
    "    search_term=\"front-end developer\",\n",
    "    location=\"Toronto, ON\",\n",
    "    results_wanted=50,\n",
    "    hours_old=72, # (only Linkedin/Indeed is hour specific, others round up to days old)\n",
    "    country_indeed='CANADA',  # only needed for indeed / glassdoor\n",
    "    # linkedin_fetch_description=True # get full description and direct job url for linkedin (slower)\n",
    "    # proxies=[\"Efb5EA8OIk0BQb:wifi;us;@proxy.soax.com:9000\", \"localhost\"],\n",
    ")"
   ]
  },
  {
   "cell_type": "markdown",
   "metadata": {},
   "source": [
    "## Print the results"
   ]
  },
  {
   "cell_type": "code",
   "execution_count": 3,
   "metadata": {
    "execution": {
     "iopub.execute_input": "2024-05-27T20:52:00.446092Z",
     "iopub.status.busy": "2024-05-27T20:52:00.445842Z",
     "iopub.status.idle": "2024-05-27T20:52:00.486788Z",
     "shell.execute_reply": "2024-05-27T20:52:00.485515Z"
    },
    "vscode": {
     "languageId": "plaintext"
    }
   },
   "outputs": [
    {
     "name": "stdout",
     "output_type": "stream",
     "text": [
      "Found 53 jobs\n",
      "               id       site  \\\n",
      "11  1009296207687  glassdoor   \n",
      "14  1009296415907  glassdoor   \n",
      "12  1009294634562  glassdoor   \n",
      "13  1009294673980  glassdoor   \n",
      "9   1009294003693  glassdoor   \n",
      "\n",
      "                                              job_url job_url_direct  \\\n",
      "11  https://www.glassdoor.ca/job-listing/j?jl=1009...            NaN   \n",
      "14  https://www.glassdoor.ca/job-listing/j?jl=1009...            NaN   \n",
      "12  https://www.glassdoor.ca/job-listing/j?jl=1009...            NaN   \n",
      "13  https://www.glassdoor.ca/job-listing/j?jl=1009...            NaN   \n",
      "9   https://www.glassdoor.ca/job-listing/j?jl=1009...            NaN   \n",
      "\n",
      "                   title                company     location job_type  \\\n",
      "11  Full Stack Developer                 Agilno      Toronto      NaN   \n",
      "14      Senior Developer           CI Financial      Toronto      NaN   \n",
      "12   front-end developer  GREATSOL SYSTEMS INC.  Mississauga      NaN   \n",
      "13  3D Graphics Engineer                Luxolis      Vaughan      NaN   \n",
      "9     Software Developer                 Vontas  Mississauga      NaN   \n",
      "\n",
      "   date_posted interval  ...  company_url_direct  company_addresses  \\\n",
      "11  2024-05-27   yearly  ...                 NaN                NaN   \n",
      "14  2024-05-27   yearly  ...                 NaN                NaN   \n",
      "12  2024-05-26   hourly  ...                 NaN                NaN   \n",
      "13  2024-05-26   yearly  ...                 NaN                NaN   \n",
      "9   2024-05-25   yearly  ...                 NaN                NaN   \n",
      "\n",
      "   company_industry company_num_employees company_revenue company_description  \\\n",
      "11              NaN                   NaN             NaN                 NaN   \n",
      "14              NaN                   NaN             NaN                 NaN   \n",
      "12              NaN                   NaN             NaN                 NaN   \n",
      "13              NaN                   NaN             NaN                 NaN   \n",
      "9               NaN                   NaN             NaN                 NaN   \n",
      "\n",
      "   logo_photo_url banner_photo_url ceo_name ceo_photo_url  \n",
      "11            NaN              NaN      NaN           NaN  \n",
      "14            NaN              NaN      NaN           NaN  \n",
      "12            NaN              NaN      NaN           NaN  \n",
      "13            NaN              NaN      NaN           NaN  \n",
      "9             NaN              NaN      NaN           NaN  \n",
      "\n",
      "[5 rows x 27 columns]\n"
     ]
    }
   ],
   "source": [
    "print(f\"Found {len(jobs)} jobs\")\n",
    "print(jobs.head())"
   ]
  },
  {
   "cell_type": "markdown",
   "metadata": {},
   "source": [
    "## Save the results to a CSV file"
   ]
  },
  {
   "cell_type": "code",
   "execution_count": 4,
   "metadata": {
    "execution": {
     "iopub.execute_input": "2024-05-27T20:52:00.490388Z",
     "iopub.status.busy": "2024-05-27T20:52:00.490045Z",
     "iopub.status.idle": "2024-05-27T20:52:00.534865Z",
     "shell.execute_reply": "2024-05-27T20:52:00.533396Z"
    },
    "vscode": {
     "languageId": "plaintext"
    }
   },
   "outputs": [],
   "source": [
    "jobs.to_csv(\"jobs.csv\", quoting=csv.QUOTE_NONNUMERIC, escapechar=\"\\\\\", index=False) # to_xlsx"
   ]
  }
 ],
 "metadata": {
  "language_info": {
   "codemirror_mode": {
    "name": "ipython",
    "version": 3
   },
   "file_extension": ".py",
   "mimetype": "text/x-python",
   "name": "python",
   "nbconvert_exporter": "python",
   "pygments_lexer": "ipython3",
   "version": "3.10.12"
  }
 },
 "nbformat": 4,
 "nbformat_minor": 2
}
